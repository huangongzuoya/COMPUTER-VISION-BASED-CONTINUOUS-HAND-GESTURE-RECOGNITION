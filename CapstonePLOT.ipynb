{
 "cells": [
  {
   "metadata": {
    "ExecuteTime": {
     "end_time": "2024-06-04T13:37:52.828923Z",
     "start_time": "2024-06-04T13:37:52.808074Z"
    }
   },
   "cell_type": "code",
   "source": [
    "import os\n",
    "import warnings\n",
    "from typing import Dict\n",
    "\n",
    "import pandas as pd"
   ],
   "id": "833fead9005d09e7",
   "outputs": [],
   "execution_count": 17
  },
  {
   "metadata": {},
   "cell_type": "markdown",
   "source": "## Read Train Log Info",
   "id": "cd99970d4454acf"
  },
  {
   "metadata": {
    "ExecuteTime": {
     "end_time": "2024-06-04T14:18:27.836620Z",
     "start_time": "2024-06-04T14:18:27.805208Z"
    }
   },
   "cell_type": "code",
   "source": [
    "train_log = pd.read_csv('YOLOv5/train_logs.csv')\n",
    "train_log.columns = train_log.columns.str.replace(' ', '')"
   ],
   "id": "5240e6ff37da02b7",
   "outputs": [],
   "execution_count": 42
  },
  {
   "metadata": {},
   "cell_type": "markdown",
   "source": "## arrange result.csv data",
   "id": "acb46969f66a99fb"
  },
  {
   "cell_type": "code",
   "id": "initial_id",
   "metadata": {
    "collapsed": true,
    "ExecuteTime": {
     "end_time": "2024-06-04T14:18:36.571563Z",
     "start_time": "2024-06-04T14:18:36.555941Z"
    }
   },
   "source": [
    "def get_best_model_metrix(file_path: str) -> Dict[str, float]:\n",
    "    '''\n",
    "    \n",
    "    Args:\n",
    "        file_path: \"YOLOv5_Detection/yolov5/runs/train/exp/results.csv\"\n",
    "\n",
    "    Returns: {precision: .0, recall: .0, mAP_0.5: .0, mAP_0.5_0.95: .0}\n",
    "\n",
    "    '''\n",
    "    if not os.path.exists(file_path):\n",
    "        warnings.warn('The file path does not exist.')\n",
    "        return {}\n",
    "    \n",
    "    result = pd.read_csv(file_path)\n",
    "    result.columns = result.columns.str.replace(' ', '')\n",
    "    result.columns = result.columns.str.replace('metrics/', '')\n",
    "    result['best_model_metric'] = 0.1 * result['mAP_0.5'] + 0.9 * result['mAP_0.5:0.95']\n",
    "    \n",
    "    return result.loc[result['best_model_metric'].idxmax()].to_dict()"
   ],
   "outputs": [],
   "execution_count": 43
  },
  {
   "metadata": {},
   "cell_type": "markdown",
   "source": "## add metrics",
   "id": "bf72709067eaa764"
  },
  {
   "metadata": {
    "ExecuteTime": {
     "end_time": "2024-06-04T14:18:37.531553Z",
     "start_time": "2024-06-04T14:18:37.515921Z"
    }
   },
   "cell_type": "code",
   "source": [
    "new_metrics = ['precision', 'recall', 'mAP_0.5', 'mAP_0.5:0.95']\n",
    "for metric in new_metrics:\n",
    "    train_log[metric] = None"
   ],
   "id": "ff400c081a56c112",
   "outputs": [],
   "execution_count": 44
  },
  {
   "metadata": {
    "ExecuteTime": {
     "end_time": "2024-06-04T14:18:38.695399Z",
     "start_time": "2024-06-04T14:18:38.648046Z"
    }
   },
   "cell_type": "code",
   "source": [
    "for index, row in train_log.iterrows():\n",
    "    result = get_best_model_metrix(f\"YOLOv5_Detection/yolov5/runs/train/{row['exp_tag']}/results.csv\")\n",
    "    train_log.loc[index, new_metrics] = [result[metric] for metric in new_metrics]"
   ],
   "id": "867d272af30a8de1",
   "outputs": [],
   "execution_count": 45
  },
  {
   "metadata": {
    "ExecuteTime": {
     "end_time": "2024-06-04T14:18:41.620663Z",
     "start_time": "2024-06-04T14:18:41.588007Z"
    }
   },
   "cell_type": "code",
   "source": "train_log.columns.tolist()",
   "id": "7ed3db4e9d0439cb",
   "outputs": [
    {
     "data": {
      "text/plain": [
       "['exp_tag', 'batch', 'epoch', 'precision', 'recall', 'mAP_0.5', 'mAP_0.5:0.95']"
      ]
     },
     "execution_count": 46,
     "metadata": {},
     "output_type": "execute_result"
    }
   ],
   "execution_count": 46
  },
  {
   "metadata": {
    "ExecuteTime": {
     "end_time": "2024-06-04T14:32:37.264741Z",
     "start_time": "2024-06-04T14:32:37.240477Z"
    }
   },
   "cell_type": "code",
   "source": "train_log",
   "id": "ec0180b4d5279581",
   "outputs": [
    {
     "data": {
      "text/plain": [
       "  exp_tag  batch  epoch precision   recall  mAP_0.5 mAP_0.5:0.95\n",
       "0     exp      8    100   0.81146  0.87535  0.88196      0.52231\n",
       "1    exp2      4    300   0.78767  0.80449  0.86913      0.50091\n",
       "2    exp3     16    200   0.78744  0.83087  0.87577      0.51886\n",
       "3    exp7     16    300   0.85629   0.7612  0.87868      0.53224\n",
       "4   exp10      8    200   0.82738  0.78535   0.8306      0.52335\n",
       "5   exp11      8    300     0.832  0.77453  0.88484      0.53343"
      ],
      "text/html": [
       "<div>\n",
       "<style scoped>\n",
       "    .dataframe tbody tr th:only-of-type {\n",
       "        vertical-align: middle;\n",
       "    }\n",
       "\n",
       "    .dataframe tbody tr th {\n",
       "        vertical-align: top;\n",
       "    }\n",
       "\n",
       "    .dataframe thead th {\n",
       "        text-align: right;\n",
       "    }\n",
       "</style>\n",
       "<table border=\"1\" class=\"dataframe\">\n",
       "  <thead>\n",
       "    <tr style=\"text-align: right;\">\n",
       "      <th></th>\n",
       "      <th>exp_tag</th>\n",
       "      <th>batch</th>\n",
       "      <th>epoch</th>\n",
       "      <th>precision</th>\n",
       "      <th>recall</th>\n",
       "      <th>mAP_0.5</th>\n",
       "      <th>mAP_0.5:0.95</th>\n",
       "    </tr>\n",
       "  </thead>\n",
       "  <tbody>\n",
       "    <tr>\n",
       "      <th>0</th>\n",
       "      <td>exp</td>\n",
       "      <td>8</td>\n",
       "      <td>100</td>\n",
       "      <td>0.81146</td>\n",
       "      <td>0.87535</td>\n",
       "      <td>0.88196</td>\n",
       "      <td>0.52231</td>\n",
       "    </tr>\n",
       "    <tr>\n",
       "      <th>1</th>\n",
       "      <td>exp2</td>\n",
       "      <td>4</td>\n",
       "      <td>300</td>\n",
       "      <td>0.78767</td>\n",
       "      <td>0.80449</td>\n",
       "      <td>0.86913</td>\n",
       "      <td>0.50091</td>\n",
       "    </tr>\n",
       "    <tr>\n",
       "      <th>2</th>\n",
       "      <td>exp3</td>\n",
       "      <td>16</td>\n",
       "      <td>200</td>\n",
       "      <td>0.78744</td>\n",
       "      <td>0.83087</td>\n",
       "      <td>0.87577</td>\n",
       "      <td>0.51886</td>\n",
       "    </tr>\n",
       "    <tr>\n",
       "      <th>3</th>\n",
       "      <td>exp7</td>\n",
       "      <td>16</td>\n",
       "      <td>300</td>\n",
       "      <td>0.85629</td>\n",
       "      <td>0.7612</td>\n",
       "      <td>0.87868</td>\n",
       "      <td>0.53224</td>\n",
       "    </tr>\n",
       "    <tr>\n",
       "      <th>4</th>\n",
       "      <td>exp10</td>\n",
       "      <td>8</td>\n",
       "      <td>200</td>\n",
       "      <td>0.82738</td>\n",
       "      <td>0.78535</td>\n",
       "      <td>0.8306</td>\n",
       "      <td>0.52335</td>\n",
       "    </tr>\n",
       "    <tr>\n",
       "      <th>5</th>\n",
       "      <td>exp11</td>\n",
       "      <td>8</td>\n",
       "      <td>300</td>\n",
       "      <td>0.832</td>\n",
       "      <td>0.77453</td>\n",
       "      <td>0.88484</td>\n",
       "      <td>0.53343</td>\n",
       "    </tr>\n",
       "  </tbody>\n",
       "</table>\n",
       "</div>"
      ]
     },
     "execution_count": 54,
     "metadata": {},
     "output_type": "execute_result"
    }
   ],
   "execution_count": 54
  },
  {
   "metadata": {},
   "cell_type": "code",
   "outputs": [],
   "execution_count": null,
   "source": "",
   "id": "90e2a13daa726c19"
  }
 ],
 "metadata": {
  "kernelspec": {
   "display_name": "Python 3",
   "language": "python",
   "name": "python3"
  },
  "language_info": {
   "codemirror_mode": {
    "name": "ipython",
    "version": 2
   },
   "file_extension": ".py",
   "mimetype": "text/x-python",
   "name": "python",
   "nbconvert_exporter": "python",
   "pygments_lexer": "ipython2",
   "version": "2.7.6"
  }
 },
 "nbformat": 4,
 "nbformat_minor": 5
}
